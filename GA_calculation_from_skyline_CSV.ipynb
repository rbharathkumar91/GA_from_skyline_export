{
 "cells": [
  {
   "cell_type": "code",
   "execution_count": null,
   "id": "6163f38c-ffea-4760-80d9-4abba3866b58",
   "metadata": {},
   "outputs": [],
   "source": [
    "import pandas as pd\n",
    "import numpy as np\n",
    "import matplotlib.pyplot as plt\n",
    "import seaborn as sns\n",
    "\n",
    "#Read CSV file\n",
    "skylineout=pd.read_csv(r'C:\\Users\\Bharath\\Dropbox\\PC\\Desktop\\BKR_DATA\\221125_BKR_plasma_GA_stability\\gAlb_p5_t15_BKR_AB_test.csv')\n",
    "\n",
    "#Dropping the unwanted columns from the skyline output\n",
    "skylineout_1=skylineout.drop(columns=['Protein','Peptide','TotalAreaRatioToGlobalStandards'])\n",
    "\n",
    "#Rearranging the dataframe to have the replicate as index\n",
    "skylineout_2=skylineout_1.pivot(index=\"Replicate\", columns=\"Peptide Modified Sequence\", values=\"Total Area Fragment\")\n",
    "\n",
    "#Calculating the sum total integrated peak area of unglycated peptides\n",
    "Sum_unglycated=skylineout_2[\"KQTALVELVK\"]+skylineout_2[\"QTALVELVK\"]\n",
    "Sum_total_1=skylineout_2[\"KQTALVELVK\"]+skylineout_2[\"K[+162.1]QTALVELVK\"]\n",
    "Sum_total_2=skylineout_2[\"AEFAEVSKLVTDLTK\"]+skylineout_2[\"AEFAEVSK[+162.1]LVTDLTK\"]\n",
    "Sum_total_3=skylineout_2[\"K[+162.1]QTALVELVK\"]+skylineout_2[\"AEFAEVSK[+162.1]LVTDLTK\"]\n",
    "Sum_total_4=Sum_total_1+Sum_total_2\n",
    "percent_miscleaved=skylineout_2[\"KQTALVELVK\"]/(skylineout_2[\"QTALVELVK\"]+skylineout_2[\"KQTALVELVK\"])*100\n",
    "\n",
    "#Appending the calcuated Sum unglycated to the dataframe\n",
    "skylineout_2[\"Sum_total_1\"]=Sum_total_1\n",
    "skylineout_2[\"Sum_total_2\"]=Sum_total_2\n",
    "skylineout_2[\"Sum_total_3\"]=Sum_total_3\n",
    "skylineout_2[\"Sum_total_4\"]=Sum_total_4\n",
    "\n",
    "#Calculating %glycation\n",
    "percent_glycation_1=skylineout_2[\"K[+162.1]QTALVELVK\"]/skylineout_2[\"Sum_total_1\"]*100\n",
    "percent_glycation_2=skylineout_2[\"AEFAEVSK[+162.1]LVTDLTK\"]/skylineout_2[\"Sum_total_2\"]*100\n",
    "percent_glycation_3=Sum_total_3/Sum_total_4*100\n",
    "\n",
    "#Appending the calcuated %glycation to the dataframe\n",
    "skylineout_2[\"%gALB_kQTALVELVK\"]=percent_glycation_1\n",
    "skylineout_2[\"%gALB_AEFAEVSkLVTDLTK\"]=percent_glycation_2\n",
    "skylineout_2[\"%gALB_total\"]=percent_glycation_3\n",
    "skylineout_2[\"% Miscleaved\"]=percent_miscleaved\n",
    "\n",
    "#Dropping the unwanted columns \n",
    "skylineout_3=skylineout_2.drop(columns=['KQTALVELVK', 'K[+162.1]QTALVELVK', 'QTALVELVK', 'Sum_total_1'])\n",
    "skylineout_3=skylineout_2.drop(columns=['KQTALVELVK', 'K[+162.1]QTALVELVK', 'QTALVELVK', 'Sum_total_1','AEFAEVSKLVTDLTK','AEFAEVSK[+162.1]LVTDLTK','Sum_total_2','Sum_total_3','Sum_total_4'])\n",
    "\n",
    "#Reindexing and renamimg the column of the dataframe\n",
    "skylineout_4=skylineout_3.rename_axis(None, axis=1)\n",
    "skylineout_5=skylineout_4.rename_axis(None, axis=0)\n",
    "skylineout_6=skylineout_5.reset_index()\n",
    "Final_report=skylineout_6.rename(columns={\"index\":\"Sample\"})\n",
    "\n",
    "#Output Final report\n",
    "Final_report\n",
    "Final_report.to_excel(r'C:\\Users\\Bharath\\Dropbox\\PC\\Desktop\\BKR_DATA\\221125_BKR_plasma_GA_stability\\GA_407GDM_boxallinone.xlsx')\n"
   ]
  }
 ],
 "metadata": {
  "kernelspec": {
   "display_name": "Python 3",
   "language": "python",
   "name": "python3"
  },
  "language_info": {
   "codemirror_mode": {
    "name": "ipython",
    "version": 3
   },
   "file_extension": ".py",
   "mimetype": "text/x-python",
   "name": "python",
   "nbconvert_exporter": "python",
   "pygments_lexer": "ipython3",
   "version": "3.8.8"
  }
 },
 "nbformat": 4,
 "nbformat_minor": 5
}
